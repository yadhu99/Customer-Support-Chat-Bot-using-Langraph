{
 "cells": [
  {
   "cell_type": "markdown",
   "metadata": {},
   "source": [
    "# Human Feedback loop"
   ]
  },
  {
   "cell_type": "code",
   "execution_count": 1,
   "metadata": {},
   "outputs": [],
   "source": [
    "from typing import Annotated\n",
    "from typing_extensions import TypedDict\n",
    "from langgraph.graph import StateGraph,START,END\n",
    "from langgraph.graph.message import add_messages\n",
    "from langgraph.prebuilt import ToolNode\n",
    "from langgraph.prebuilt import tools_condition\n",
    "from langgraph.types import Command,Interrupt\n",
    "from langchain_tavily import TavilySearch\n",
    "from langgraph.checkpoint.memory import MemorySaver\n",
    "from IPython.display import Image,display\n",
    "from langchain_core.tools import tool\n"
   ]
  },
  {
   "cell_type": "code",
   "execution_count": 5,
   "metadata": {},
   "outputs": [],
   "source": [
    "class State(TypedDict):\n",
    "    messages:Annotated[list,add_messages]"
   ]
  },
  {
   "cell_type": "code",
   "execution_count": 6,
   "metadata": {},
   "outputs": [
    {
     "data": {
      "text/plain": [
       "True"
      ]
     },
     "execution_count": 6,
     "metadata": {},
     "output_type": "execute_result"
    }
   ],
   "source": [
    "import os\n",
    "from dotenv import load_dotenv\n",
    "load_dotenv()"
   ]
  },
  {
   "cell_type": "code",
   "execution_count": 2,
   "metadata": {},
   "outputs": [],
   "source": [
    "from langchain_groq import ChatGroq\n",
    "from langchain.chat_models import init_chat_model\n",
    "\n",
    "llm=ChatGroq(model=\"openai/gpt-oss-20b\")\n"
   ]
  },
  {
   "cell_type": "code",
   "execution_count": 3,
   "metadata": {},
   "outputs": [
    {
     "data": {
      "text/plain": [
       "ChatGroq(client=<groq.resources.chat.completions.Completions object at 0x10874bb60>, async_client=<groq.resources.chat.completions.AsyncCompletions object at 0x108938830>, model_name='openai/gpt-oss-20b', model_kwargs={}, groq_api_key=SecretStr('**********'))"
      ]
     },
     "execution_count": 3,
     "metadata": {},
     "output_type": "execute_result"
    }
   ],
   "source": [
    "llm"
   ]
  },
  {
   "cell_type": "code",
   "execution_count": 7,
   "metadata": {},
   "outputs": [
    {
     "data": {
      "image/png": "[encoded data removed]",
      "text/plain": [
       "<IPython.core.display.Image object>"
      ]
     },
     "metadata": {},
     "output_type": "display_data"
    }
   ],
   "source": [
    "graph_builder=StateGraph(State)\n",
    "memory=MemorySaver()\n",
    "\n",
    "\n",
    "def human_feedback(query:str)->str:\n",
    "    \"\"\" Requested assitance from a human \"\"\"\n",
    "    human_response=Interrupt({\"query\":query})\n",
    "    return human_response[\"data\"]\n",
    "\n",
    "tool1=TavilySearch(max_results=2)\n",
    "tools=[tool1,human_feedback]\n",
    "llm_with_tools=llm.bind_tools(tools)\n",
    "\n",
    "def chat_bot(state: State):\n",
    "    message=llm_with_tools.invoke(state[\"messages\"])\n",
    "    #because we will be interupting during the tool execution\n",
    "    # we disable parallel tool calling to avoid repeating any \n",
    "    # tool invocations when we resume \n",
    "    return {\"messages\":[message]}\n",
    "\n",
    "graph_builder.add_node(\"llm_with_tool\",chat_bot)\n",
    "graph_builder.add_node(\"tools\",ToolNode(tools=tools))\n",
    "\n",
    "graph_builder.add_conditional_edges(\"llm_with_tool\",tools_condition)\n",
    "\n",
    "graph_builder.add_edge(\"tools\",\"llm_with_tool\")\n",
    "graph_builder.add_edge(START,\"llm_with_tool\")\n",
    "graph=graph_builder.compile(checkpointer=memory)\n",
    "\n",
    "display(Image(graph.get_graph().draw_mermaid_png()))\n",
    "\n",
    "\n",
    "\n"
   ]
  },
  {
   "cell_type": "code",
   "execution_count": 15,
   "metadata": {},
   "outputs": [
    {
     "name": "stdout",
     "output_type": "stream",
     "text": [
      "================================\u001b[1m Human Message \u001b[0m=================================\n",
      "\n",
      "I need some expert assistance and guidance to build my ai agent project \n",
      "==================================\u001b[1m Ai Message \u001b[0m==================================\n",
      "\n",
      "Absolutely—let’s get started!  \n",
      "To give you the most useful, tailored advice, I’d love to understand a few key details about your AI‑agent project. Once we have that picture, I can outline a practical roadmap, recommend tools & frameworks, sketch out architecture, and point you to resources, tutorials, and best practices.\n",
      "\n",
      "### Quick Clarifying Questions\n",
      "\n",
      "| # | Question | Why it matters |\n",
      "|---|----------|----------------|\n",
      "| 1 | **What’s the core purpose of the agent?** (e.g., personal productivity assistant, customer‑service chatbot, data‑analysis bot, autonomous decision‑maker, etc.) | Determines the functional scope and required skill sets. |\n",
      "| 2 | **What data or knowledge base will it rely on?** (e.g., internal documents, public APIs, web scraping, proprietary datasets) | Influences storage, retrieval, and privacy considerations. |\n",
      "| 3 | **What level of autonomy / decision‑making do you want?** (simple rule‑based, retrieval‑augmented, reinforcement learning, etc.) | Affects architecture complexity and required ML expertise. |\n",
      "| 4 | **Which user interface(s) will it expose?** (web, mobile, voice, command‑line, API) | Guides frontend tech choices and integration patterns. |\n",
      "| 5 | **What is your tech stack / language preference?** (Python, JavaScript/TypeScript, Java, etc.) | Helps recommend libraries, frameworks, and deployment options. |\n",
      "| 6 | **Do you have existing infrastructure?** (cloud provider, on‑prem, CI/CD pipeline, monitoring tools) | Determines deployment strategy and scaling considerations. |\n",
      "| 7 | **What is your timeline / milestones?** (prototype, MVP, production) | Enables a phased plan with realistic deliverables. |\n",
      "| 8 | **What is your budget / team size?** (full‑time devs, contractors, open‑source tools) | Affects tool selection and scope decisions. |\n",
      "| 9 | **Any compliance / security constraints?** (GDPR, HIPAA, internal security policies) | Influences data handling, encryption, audit logging, etc. |\n",
      "|10 | **Do you plan to use existing LLMs or train your own?** (OpenAI GPT‑4, Llama, GPT‑Neo, custom models) | Determines API usage vs. model training, compute needs, and cost. |\n",
      "\n",
      "---\n",
      "\n",
      "### Next Steps\n",
      "\n",
      "1. **Answer the questions above.**  \n",
      "   You can give a brief bullet‑point summary or a short paragraph—whatever feels most convenient.\n",
      "\n",
      "2. **We’ll craft a high‑level architecture diagram** that maps:\n",
      "   - Input sources (APIs, databases, user input)\n",
      "   - Core processing (LLM, retrieval, reasoning)\n",
      "   - Output channels (chat UI, email, API)\n",
      "   - Supporting services (auth, logging, monitoring)\n",
      "\n",
      "3. **We’ll outline a phased implementation plan** (Prototype → MVP → Production) with:\n",
      "   - Core features per phase\n",
      "   - Suggested libraries / frameworks\n",
      "   - DevOps / deployment recommendations\n",
      "   - Testing & evaluation strategy\n",
      "\n",
      "4. **We’ll provide a curated list of resources**:\n",
      "   - Tutorials, sample projects, and boilerplate code\n",
      "   - Documentation for key tools (LangChain, LlamaIndex, FastAPI, Docker, etc.)\n",
      "   - Community forums or Slack/Discord channels\n",
      "\n",
      "5. **Optional**: If you need help writing the first piece of code (e.g., setting up a LangChain chain, integrating an API, or creating a simple Flask app), just let me know which part you’d like to start with.\n",
      "\n",
      "---\n",
      "\n",
      "### Quick Example (If you’re building a Retrieval‑Augmented Chatbot)\n",
      "\n",
      "| Component | Suggested Tech |\n",
      "|-----------|----------------|\n",
      "| **LLM** | OpenAI GPT‑4 / Anthropic Claude / Llama 2 (via OpenAI API or local) |\n",
      "| **Retrieval** | LlamaIndex (formerly GPT‑Index) or ElasticSearch + vector store |\n",
      "| **Framework** | LangChain + FastAPI for the backend; React + Vite for the frontend |\n",
      "| **Data Store** | PostgreSQL for structured data + Pinecone/Weaviate for vectors |\n",
      "| **Auth** | OAuth2 / JWT |\n",
      "| **Deployment** | Docker + Kubernetes (EKS / GKE) or serverless (AWS Lambda + API Gateway) |\n",
      "| **Observability** | Prometheus + Grafana; Sentry for error logging |\n",
      "\n",
      "---\n",
      "\n",
      "Feel free to share whatever details you’re comfortable with, and we’ll dive into a concrete plan. If you’d rather start with a particular component (e.g., “How do I set up a vector store for my documents?”), just let me know!\n"
     ]
    }
   ],
   "source": [
    "user_input=\"I need some expert assistance and guidance to build my ai agent project \"\n",
    "config={\"configurable\":{\"thread_id\":\"1\"}}\n",
    "\n",
    "response=graph.stream({\"messages\":user_input},\n",
    "                      stream_mode=\"values\",\n",
    "                      config=config)\n",
    "for event in response:\n",
    "    event[\"messages\"][-1].pretty_print()"
   ]
  },
  {
   "cell_type": "code",
   "execution_count": 16,
   "metadata": {},
   "outputs": [
    {
     "name": "stdout",
     "output_type": "stream",
     "text": [
      "==================================\u001b[1m Ai Message \u001b[0m==================================\n",
      "\n",
      "Absolutely—let’s get started!  \n",
      "To give you the most useful, tailored advice, I’d love to understand a few key details about your AI‑agent project. Once we have that picture, I can outline a practical roadmap, recommend tools & frameworks, sketch out architecture, and point you to resources, tutorials, and best practices.\n",
      "\n",
      "### Quick Clarifying Questions\n",
      "\n",
      "| # | Question | Why it matters |\n",
      "|---|----------|----------------|\n",
      "| 1 | **What’s the core purpose of the agent?** (e.g., personal productivity assistant, customer‑service chatbot, data‑analysis bot, autonomous decision‑maker, etc.) | Determines the functional scope and required skill sets. |\n",
      "| 2 | **What data or knowledge base will it rely on?** (e.g., internal documents, public APIs, web scraping, proprietary datasets) | Influences storage, retrieval, and privacy considerations. |\n",
      "| 3 | **What level of autonomy / decision‑making do you want?** (simple rule‑based, retrieval‑augmented, reinforcement learning, etc.) | Affects architecture complexity and required ML expertise. |\n",
      "| 4 | **Which user interface(s) will it expose?** (web, mobile, voice, command‑line, API) | Guides frontend tech choices and integration patterns. |\n",
      "| 5 | **What is your tech stack / language preference?** (Python, JavaScript/TypeScript, Java, etc.) | Helps recommend libraries, frameworks, and deployment options. |\n",
      "| 6 | **Do you have existing infrastructure?** (cloud provider, on‑prem, CI/CD pipeline, monitoring tools) | Determines deployment strategy and scaling considerations. |\n",
      "| 7 | **What is your timeline / milestones?** (prototype, MVP, production) | Enables a phased plan with realistic deliverables. |\n",
      "| 8 | **What is your budget / team size?** (full‑time devs, contractors, open‑source tools) | Affects tool selection and scope decisions. |\n",
      "| 9 | **Any compliance / security constraints?** (GDPR, HIPAA, internal security policies) | Influences data handling, encryption, audit logging, etc. |\n",
      "|10 | **Do you plan to use existing LLMs or train your own?** (OpenAI GPT‑4, Llama, GPT‑Neo, custom models) | Determines API usage vs. model training, compute needs, and cost. |\n",
      "\n",
      "---\n",
      "\n",
      "### Next Steps\n",
      "\n",
      "1. **Answer the questions above.**  \n",
      "   You can give a brief bullet‑point summary or a short paragraph—whatever feels most convenient.\n",
      "\n",
      "2. **We’ll craft a high‑level architecture diagram** that maps:\n",
      "   - Input sources (APIs, databases, user input)\n",
      "   - Core processing (LLM, retrieval, reasoning)\n",
      "   - Output channels (chat UI, email, API)\n",
      "   - Supporting services (auth, logging, monitoring)\n",
      "\n",
      "3. **We’ll outline a phased implementation plan** (Prototype → MVP → Production) with:\n",
      "   - Core features per phase\n",
      "   - Suggested libraries / frameworks\n",
      "   - DevOps / deployment recommendations\n",
      "   - Testing & evaluation strategy\n",
      "\n",
      "4. **We’ll provide a curated list of resources**:\n",
      "   - Tutorials, sample projects, and boilerplate code\n",
      "   - Documentation for key tools (LangChain, LlamaIndex, FastAPI, Docker, etc.)\n",
      "   - Community forums or Slack/Discord channels\n",
      "\n",
      "5. **Optional**: If you need help writing the first piece of code (e.g., setting up a LangChain chain, integrating an API, or creating a simple Flask app), just let me know which part you’d like to start with.\n",
      "\n",
      "---\n",
      "\n",
      "### Quick Example (If you’re building a Retrieval‑Augmented Chatbot)\n",
      "\n",
      "| Component | Suggested Tech |\n",
      "|-----------|----------------|\n",
      "| **LLM** | OpenAI GPT‑4 / Anthropic Claude / Llama 2 (via OpenAI API or local) |\n",
      "| **Retrieval** | LlamaIndex (formerly GPT‑Index) or ElasticSearch + vector store |\n",
      "| **Framework** | LangChain + FastAPI for the backend; React + Vite for the frontend |\n",
      "| **Data Store** | PostgreSQL for structured data + Pinecone/Weaviate for vectors |\n",
      "| **Auth** | OAuth2 / JWT |\n",
      "| **Deployment** | Docker + Kubernetes (EKS / GKE) or serverless (AWS Lambda + API Gateway) |\n",
      "| **Observability** | Prometheus + Grafana; Sentry for error logging |\n",
      "\n",
      "---\n",
      "\n",
      "Feel free to share whatever details you’re comfortable with, and we’ll dive into a concrete plan. If you’d rather start with a particular component (e.g., “How do I set up a vector store for my documents?”), just let me know!\n"
     ]
    }
   ],
   "source": [
    "human_resposne=(\"hi , iam an ai agentic engineer for your assistance how may i help you\")\n",
    "human_command=Command(resume={\"data\":human_resposne}\n",
    "                      )\n",
    "events=graph.stream(human_command,config=config,stream_mode=\"values\")\n",
    "\n",
    "for event in events:\n",
    "    event[\"messages\"][-1].pretty_print()"
   ]
  }
 ],
 "metadata": {
  "kernelspec": {
   "display_name": ".venv",
   "language": "python",
   "name": "python3"
  },
  "language_info": {
   "codemirror_mode": {
    "name": "ipython",
    "version": 3
   },
   "file_extension": ".py",
   "mimetype": "text/x-python",
   "name": "python",
   "nbconvert_exporter": "python",
   "pygments_lexer": "ipython3",
   "version": "3.13.5"
  }
 },
 "nbformat": 4,
 "nbformat_minor": 2
}
